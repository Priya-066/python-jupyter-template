{
 "cells": [
  {
   "cell_type": "markdown",
   "metadata": {},
   "source": [
    "### Exercise 1: Line Plot Customization"
   ]
  },
  {
   "cell_type": "code",
   "execution_count": null,
   "metadata": {},
   "outputs": [],
   "source": [
    "# TASK: Create a line plot with x values ranging from 0 to 10 and y values as the square of x.\n",
    "# Customize the plot by adding a title, labels for both axes, and a grid."
   ]
  }
 ],
 "metadata": {
  "language_info": {
   "name": "python"
  }
 },
 "nbformat": 4,
 "nbformat_minor": 2
}

import matplotlib.pyplot as plt

# Data
x = list(range(11))
y = [i**2 for i in x]

# Create a line plot
plt.plot(x, y, marker='o', linestyle='-')

# Customization
plt.title('Square Function Line Plot')
plt.xlabel('x')
plt.ylabel('y = x^2')
plt.grid(True)

# Show the plot
plt.show()
